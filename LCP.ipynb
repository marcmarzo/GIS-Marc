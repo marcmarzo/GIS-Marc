{
  "nbformat": 4,
  "nbformat_minor": 0,
  "metadata": {
    "colab": {
      "name": "Untitled1.ipynb",
      "provenance": [],
      "include_colab_link": true
    },
    "kernelspec": {
      "name": "python2",
      "display_name": "Python 2"
    }
  },
  "cells": [
    {
      "cell_type": "markdown",
      "metadata": {
        "id": "view-in-github",
        "colab_type": "text"
      },
      "source": [
        "<a href=\"https://colab.research.google.com/github/marcmarzo/GIS-Marc/blob/master/LCP.ipynb\" target=\"_parent\"><img src=\"https://colab.research.google.com/assets/colab-badge.svg\" alt=\"Open In Colab\"/></a>"
      ]
    },
    {
      "cell_type": "markdown",
      "metadata": {
        "id": "6AlWrE0JvilW",
        "colab_type": "text"
      },
      "source": [
        "**CREATING A LEAST-COST PATH ANALYSIS** \n"
      ]
    },
    {
      "cell_type": "markdown",
      "metadata": {
        "id": "IhLZsJ2Cx0bt",
        "colab_type": "text"
      },
      "source": [
        "This notebook is intended to be a first contact with cost distance and least-cost path analysis using Phython. Yet, I consider worth mentioning that most of my experience with GIS has been with software programs like ArcGIS and, therefore, as I am not entirelly familiar with coding, it is more than likely that this notebook will contain numerous errors. "
      ]
    },
    {
      "cell_type": "markdown",
      "metadata": {
        "id": "GsHkMLqOyBrP",
        "colab_type": "text"
      },
      "source": [
        "That being said, as we had advanced in the power point presentation, in order to do some least-cost path analyses we first need to obtain Digital Elevation Models and create a Cost Surface and a Cost Distance raster that will work as the background data for our LCP."
      ]
    },
    {
      "cell_type": "code",
      "metadata": {
        "id": "yQTvJQKuy0Db",
        "colab_type": "code",
        "colab": {}
      },
      "source": [
        "# Before adding the DEM we need to import all the packages that will help us work with them. \n",
        "# In this sense, we will import the NumPy package (which is used to compute and manipulate data)\n",
        "\n",
        "import numpy as np\n",
        "\n",
        "# We have to import Pandas and GeoPandas, which we have extensively used in this module.\n",
        "\n",
        "import pandas as pd\n",
        "import geopandas as gpd\n",
        "\n",
        "# We will also import PyProj, which will help us work with the geographic and the projected coordinates.\n",
        "\n",
        "import pyproj"
      ],
      "execution_count": 0,
      "outputs": []
    }
  ]
}